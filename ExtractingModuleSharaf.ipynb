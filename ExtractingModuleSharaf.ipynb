{
 "cells": [
  {
   "cell_type": "code",
   "execution_count": 7,
   "metadata": {
    "collapsed": true
   },
   "outputs": [],
   "source": [
    "from __future__ import division\n",
    "from pyspark import SparkConf, SparkContext\n",
    "from pyspark.sql import SQLContext\n",
    "sqlContext = SQLContext(sc)\n",
    "from  operator import add"
   ]
  },
  {
   "cell_type": "code",
   "execution_count": 4,
   "metadata": {
    "collapsed": true
   },
   "outputs": [],
   "source": [
    "# Functions for extracting:\n",
    "def parse(row):\n",
    "    serialNumber = str(row.value.serialNumber)\n",
    "    timestamp = row.time\n",
    "    if row.value.zone is not None:\n",
    "        zone = str(row.value.zone.value.name)\n",
    "    else:\n",
    "        zone = None\n",
    "    if row.value.sGroup is not None:\n",
    "        group = str(row.value.sGroup.value)\n",
    "    else:\n",
    "        group = None  # -> No group???\n",
    "    if row.value.status is not None:\n",
    "        if str(row.value.status.value) == 'Sold':\n",
    "            status = int(1)\n",
    "        else:\n",
    "            status = int(0)\n",
    "    else:\n",
    "        status = int(0)\n",
    "        # if row.value.itemcode is not None:\n",
    "        #   itemcode=str(row.itemcode.value)\n",
    "        # else:\n",
    "        #   itemcode=None\n",
    "    return [serialNumber, timestamp, zone, group, status]\n",
    "\n",
    "\n",
    "def summarize_serial(x, y):\n",
    "    # Assign to first_date the first blink row:\n",
    "    last_date = max(x[0], y[0])\n",
    "    if last_date == x[0]:\n",
    "        first_line = y\n",
    "        last_line = x\n",
    "    elif last_date == y[0]:\n",
    "        first_line = x\n",
    "        last_line = y\n",
    "    status = last_line[3]\n",
    "    zone = first_line[1]\n",
    "    group = last_line[2]\n",
    "    # brand = last_line[4]\n",
    "    # dep = last_line[5]\n",
    "    # blinks_number = first_line[6] + last_line[6]\n",
    "    # result = [first_date, last_line[0], zone, group, brand, dep, blinks_number, status]\n",
    "    result = [last_date, zone, group, status]\n",
    "    return result\n",
    "\n",
    "\n",
    "def extracting_time(x):\n",
    "    year = x[0].year\n",
    "    month = x[0].month\n",
    "    WM = (x[0].day - 1) // 7 + 1\n",
    "    DM = x[0].day\n",
    "    DW = x[0].weekday()\n",
    "    Zone = x[1]\n",
    "    Sold = x[2]\n",
    "    return [year, month, WM, DM, DW, Zone, Sold]\n"
   ]
  },
  {
   "cell_type": "code",
   "execution_count": 2,
   "metadata": {
    "collapsed": false
   },
   "outputs": [
    {
     "name": "stdout",
     "output_type": "stream",
     "text": [
      "Number of blinks: 2010209\n"
     ]
    }
   ],
   "source": [
    "sqlContext.sql(\n",
    "    \"CREATE TEMPORARY TABLE thingsTable USING com.stratio.datasource.mongodb OPTIONS (host 'localhost:27017', \"\n",
    "    \"database 'riot_main', collection 'thingSnapshots_sharaf', splitKey 'time', splitKeyType 'isoDate', \"\n",
    "    \"splitKeyMin '2016-01-01T00:00:00.000Z', splitKeyMax '2016-04-01T00:00:00.000Z' )\")\n",
    "\n",
    "# Extract all blinks from the Database:\n",
    "raw_data = sqlContext.sql(\n",
    "    \"SELECT * FROM thingsTable WHERE value.groupId=3\")  # WHERE value.status.value = 'Sold'\") --AND value.status.value='Sold'\n",
    "print ('Number of blinks: ' + str(raw_data.count()))\n",
    "#print ('Document Example:    ' + str(raw_data.first()))"
   ]
  },
  {
   "cell_type": "code",
   "execution_count": 5,
   "metadata": {
    "collapsed": false
   },
   "outputs": [
    {
     "name": "stdout",
     "output_type": "stream",
     "text": [
      "Number of Things Sold: 160747\n",
      "Thing Sold Example :    ('AE1000000000000000703312', [datetime.datetime(2016, 2, 26, 12, 50, 11, 475000), None, 'Video Cable and Connector', 1])\n"
     ]
    }
   ],
   "source": [
    "# Parse the rows and extract as (serial, initial_date, end_date, zone, group, status(binary))\n",
    "SerialDateZoneGroupStatusRdd = raw_data.map(parse).map(\n",
    "    lambda x: (x[0], (x[1], x[2], x[3], x[4]))).reduceByKey(summarize_serial)\n",
    "\n",
    "print ('Number of Things Sold: ' + str(SerialDateZoneGroupStatusRdd.count()))\n",
    "print ('Thing Sold Example :    ' + str(SerialDateZoneGroupStatusRdd.first()))"
   ]
  },
  {
   "cell_type": "code",
   "execution_count": 8,
   "metadata": {
    "collapsed": false
   },
   "outputs": [
    {
     "name": "stdout",
     "output_type": "stream",
     "text": [
      "Number of things Sold per group per zone: [(datetime.date(2016, 1, 25), 'Stock Room 1', 'Mobile Accessories', 1), (datetime.date(2016, 1, 24), 'IT', 'Office Equipment Portable', 2), (datetime.date(2016, 3, 3), None, 'Games', 3), (datetime.date(2016, 1, 30), 'Electronics', 'Mobile Accessories', 0), (datetime.date(2016, 1, 8), 'Stock Room 1', 'Books And Periodicals', 1)]\n",
      "Zone Group Example :    (datetime.date(2016, 1, 25), 'Stock Room 1', 'Mobile Accessories', 1)\n"
     ]
    }
   ],
   "source": [
    "# Get the number of objects sold per Zone per Group per day:\n",
    "DateZoneGroupStatusRdd = SerialDateZoneGroupStatusRdd.reduceByKey(summarize_serial).map(\n",
    "    lambda x: ((x[1][0].date(), x[1][1], x[1][2]), x[1][3])).reduceByKey(add).map(\n",
    "    lambda x: (x[0][0], x[0][1], x[0][2],\n",
    "               x[1]))\n",
    "print ('Number of things Sold per group per zone: ' + str(DateZoneGroupStatusRdd.take(5)))\n",
    "print ('Zone Group Example :    ' + str(DateZoneGroupStatusRdd.first()))"
   ]
  },
  {
   "cell_type": "code",
   "execution_count": 9,
   "metadata": {
    "collapsed": false
   },
   "outputs": [
    {
     "name": "stdout",
     "output_type": "stream",
     "text": [
      "Number of Zones Sold :1826\n",
      "Zone Example :    (datetime.date(2016, 3, 29), 'Exit Back', 5)\n"
     ]
    }
   ],
   "source": [
    "# Get the number of objects sold per Zone per day:\n",
    "DateZoneStatusRdd = SerialDateZoneGroupStatusRdd.map(\n",
    "    lambda x: ((x[1][0].date(), x[1][1]), x[1][3])).reduceByKey(add).map(lambda x: (x[0][0], x[0][1], x[1]))\n",
    "\n",
    "print ('Number of Zones Sold :' + str(DateZoneStatusRdd.count()))\n",
    "print ('Zone Example :    ' + str(DateZoneStatusRdd.first()))"
   ]
  },
  {
   "cell_type": "code",
   "execution_count": 10,
   "metadata": {
    "collapsed": false
   },
   "outputs": [
    {
     "name": "stdout",
     "output_type": "stream",
     "text": [
      "Number of registers : 1826\n",
      "ZoneData Example :    [2016, 3, 5, 29, 1, 'Exit Back', 5]\n"
     ]
    }
   ],
   "source": [
    "# Extracting Features to RDDs:\n",
    "ZoneData = DateZoneStatusRdd.map(extracting_time)\n",
    "print ('Number of registers : ' + str(ZoneData.count()))\n",
    "print ('ZoneData Example :    ' + str(ZoneData.first()))"
   ]
  },
  {
   "cell_type": "code",
   "execution_count": null,
   "metadata": {
    "collapsed": true
   },
   "outputs": [],
   "source": []
  },
  {
   "cell_type": "code",
   "execution_count": 11,
   "metadata": {
    "collapsed": false
   },
   "outputs": [],
   "source": [
    "ZoneData.coalesce(1, True).saveAsPickleFile('/tmp/Zone3M1zone')"
   ]
  },
  {
   "cell_type": "code",
   "execution_count": 14,
   "metadata": {
    "collapsed": false
   },
   "outputs": [],
   "source": [
    "ZoneData.coalesce(1, True).saveAsTextFile('/tmp/ZoneObjSoldTEXt2D_v2')"
   ]
  },
  {
   "cell_type": "code",
   "execution_count": null,
   "metadata": {
    "collapsed": true
   },
   "outputs": [],
   "source": []
  }
 ],
 "metadata": {
  "kernelspec": {
   "display_name": "Python 2",
   "language": "python",
   "name": "python2"
  },
  "language_info": {
   "codemirror_mode": {
    "name": "ipython",
    "version": 2
   },
   "file_extension": ".py",
   "mimetype": "text/x-python",
   "name": "python",
   "nbconvert_exporter": "python",
   "pygments_lexer": "ipython2",
   "version": "2.7.11"
  }
 },
 "nbformat": 4,
 "nbformat_minor": 0
}
